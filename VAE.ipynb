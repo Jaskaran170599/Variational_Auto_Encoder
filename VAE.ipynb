{
 "cells": [
  {
   "cell_type": "code",
   "execution_count": 1,
   "metadata": {},
   "outputs": [],
   "source": [
    "import cv2\n",
    "import tensorflow as tf\n",
    "import numpy as np\n",
    "import matplotlib.pyplot as plt\n",
    "from tensorflow.examples.tutorials import mnist"
   ]
  },
  {
   "cell_type": "code",
   "execution_count": 2,
   "metadata": {
    "scrolled": true
   },
   "outputs": [
    {
     "name": "stdout",
     "output_type": "stream",
     "text": [
      "WARNING:tensorflow:From <ipython-input-2-5dba8e0e2d30>:1: read_data_sets (from tensorflow.contrib.learn.python.learn.datasets.mnist) is deprecated and will be removed in a future version.\n",
      "Instructions for updating:\n",
      "Please use alternatives such as official/mnist/dataset.py from tensorflow/models.\n",
      "WARNING:tensorflow:From C:\\Users\\Dell\\Anaconda3\\lib\\site-packages\\tensorflow\\contrib\\learn\\python\\learn\\datasets\\mnist.py:260: maybe_download (from tensorflow.contrib.learn.python.learn.datasets.base) is deprecated and will be removed in a future version.\n",
      "Instructions for updating:\n",
      "Please write your own downloading logic.\n",
      "WARNING:tensorflow:From C:\\Users\\Dell\\Anaconda3\\lib\\site-packages\\tensorflow\\contrib\\learn\\python\\learn\\datasets\\mnist.py:262: extract_images (from tensorflow.contrib.learn.python.learn.datasets.mnist) is deprecated and will be removed in a future version.\n",
      "Instructions for updating:\n",
      "Please use tf.data to implement this functionality.\n",
      "Extracting ../../Neural networks/MNIST_data\\train-images-idx3-ubyte.gz\n",
      "WARNING:tensorflow:From C:\\Users\\Dell\\Anaconda3\\lib\\site-packages\\tensorflow\\contrib\\learn\\python\\learn\\datasets\\mnist.py:267: extract_labels (from tensorflow.contrib.learn.python.learn.datasets.mnist) is deprecated and will be removed in a future version.\n",
      "Instructions for updating:\n",
      "Please use tf.data to implement this functionality.\n",
      "Extracting ../../Neural networks/MNIST_data\\train-labels-idx1-ubyte.gz\n",
      "Extracting ../../Neural networks/MNIST_data\\t10k-images-idx3-ubyte.gz\n",
      "Extracting ../../Neural networks/MNIST_data\\t10k-labels-idx1-ubyte.gz\n",
      "WARNING:tensorflow:From C:\\Users\\Dell\\Anaconda3\\lib\\site-packages\\tensorflow\\contrib\\learn\\python\\learn\\datasets\\mnist.py:290: DataSet.__init__ (from tensorflow.contrib.learn.python.learn.datasets.mnist) is deprecated and will be removed in a future version.\n",
      "Instructions for updating:\n",
      "Please use alternatives such as official/mnist/dataset.py from tensorflow/models.\n"
     ]
    }
   ],
   "source": [
    "data=mnist.input_data.read_data_sets(\"../../Neural networks/MNIST_data\")"
   ]
  },
  {
   "cell_type": "code",
   "execution_count": 3,
   "metadata": {},
   "outputs": [
    {
     "data": {
      "text/plain": [
       "(55000, 784)"
      ]
     },
     "execution_count": 3,
     "metadata": {},
     "output_type": "execute_result"
    }
   ],
   "source": [
    "images=data.train.images/255.\n",
    "images.shape"
   ]
  },
  {
   "cell_type": "code",
   "execution_count": 4,
   "metadata": {},
   "outputs": [],
   "source": [
    "tf.reset_default_graph()\n",
    "X=tf.placeholder(\"float32\",shape=(None,784),name=\"input\")\n",
    "Y=tf.placeholder(\"float32\",shape=(None,64),name=\"gen_input\")"
   ]
  },
  {
   "cell_type": "code",
   "execution_count": 5,
   "metadata": {},
   "outputs": [],
   "source": [
    "#Model\n",
    "\n",
    "#encoder\n",
    "with tf.variable_scope(\"encoder\",reuse=tf.AUTO_REUSE):\n",
    "    L1=tf.keras.layers.Dense(units=784,activation=\"relu\",name=\"enc_input\")(X)\n",
    "    L2=tf.keras.layers.Dense(units=256,activation=\"relu\")(L1)\n",
    "            \n",
    "#encodings\n",
    "with tf.variable_scope(\"encoding\",reuse=tf.AUTO_REUSE):\n",
    "    encoding_mean=tf.keras.layers.Dense(64)(L2)\n",
    "    encoding_stddev=tf.keras.layers.Dense(64)(L2)\n",
    "    #sampling\n",
    "    std_norm=tf.random_normal(shape=(tf.shape(encoding_mean)[0], 64), mean=0, stddev=1)\n",
    "    Sample=encoding_mean + tf.exp(encoding_stddev) * std_norm\n",
    "     \n",
    "#Latent Vector\n",
    "with tf.variable_scope(\"Latent_vector\",reuse=tf.AUTO_REUSE):\n",
    "    Lt_vec=tf.keras.layers.Dense(64,name=\"Latent_vector\")(Sample)\n",
    "\n",
    "#decoding\n",
    "with tf.variable_scope(\"decoder\",reuse=tf.AUTO_REUSE):\n",
    "    dec_in=tf.keras.layers.Dense(256,activation=\"relu\",name=\"dec_input\")\n",
    "    dec_out=tf.keras.layers.Dense(784,activation=\"relu\",name=\"output\")\n",
    "    L3=dec_in(Lt_vec)\n",
    "    L4=dec_out(L3)\n",
    "\n",
    "#gen_output\n",
    "gen_dec=dec_in(Y)\n",
    "output=dec_out(gen_dec)"
   ]
  },
  {
   "cell_type": "code",
   "execution_count": 8,
   "metadata": {
    "scrolled": true
   },
   "outputs": [],
   "source": [
    "#Loss\n",
    "out=L4\n",
    "\n",
    "rec_loss=tf.reduce_sum(tf.square(X-out))\n",
    "\n",
    "Kl_loss= 0.5 * tf.reduce_sum(tf.square(encoding_mean)+tf.square(tf.exp(encoding_stddev)) -1 -encoding_stddev)\n",
    "\n",
    "Loss= tf.reduce_mean(rec_loss + Kl_loss,name=\"net_loss\") \n"
   ]
  },
  {
   "cell_type": "code",
   "execution_count": 9,
   "metadata": {},
   "outputs": [],
   "source": [
    "#optimizing\n",
    "\n",
    "opti=tf.train.AdamOptimizer(name=\"opti\")\n",
    "step=opti.minimize(Loss,name=\"step\")\n"
   ]
  },
  {
   "cell_type": "code",
   "execution_count": 10,
   "metadata": {},
   "outputs": [],
   "source": [
    "#Session\n",
    "Sess=tf.Session()\n",
    "Sess.run(tf.global_variables_initializer())"
   ]
  },
  {
   "cell_type": "code",
   "execution_count": 11,
   "metadata": {
    "scrolled": true
   },
   "outputs": [
    {
     "name": "stdout",
     "output_type": "stream",
     "text": [
      "1868894.1018066406\n",
      "1331646.4157714844\n",
      "1229359.8580322266\n",
      "1184940.6867675781\n",
      "1155878.3272705078\n"
     ]
    }
   ],
   "source": [
    "# Train\n",
    "batch_size = 100\n",
    "for i in range(5):\n",
    "    num_batches = int(data.train.num_examples/batch_size)\n",
    "    total_cost = 0\n",
    "    for j in range(num_batches):\n",
    "        batch_x, batch_y = data.train.next_batch(batch_size)\n",
    "        c, _ = Sess.run([Loss, step], feed_dict={X:batch_x})\n",
    "        total_cost += c\n",
    "    print(total_cost)"
   ]
  },
  {
   "cell_type": "code",
   "execution_count": 23,
   "metadata": {},
   "outputs": [
    {
     "data": {
      "text/plain": [
       "Text(0.5,1,'Generated_image')"
      ]
     },
     "execution_count": 23,
     "metadata": {},
     "output_type": "execute_result"
    },
    {
     "data": {
      "image/png": "[encoded data removed]",
      "text/plain": [
       "<Figure size 1080x1080 with 4 Axes>"
      ]
     },
     "metadata": {},
     "output_type": "display_data"
    }
   ],
   "source": [
    "k=np.random.randint(size=(1,),low=0,high=7900)[0]\n",
    "out0=Sess.run(Lt_vec,feed_dict={X:data.train.images[k:k+1]})\n",
    "out1=Sess.run(Lt_vec,feed_dict={X:data.train.images[99+k:k+100]})\n",
    "out2=Sess.run(Lt_vec,feed_dict={X:data.train.images[k+14:k+15]})\n",
    "diff=out0-out1\n",
    "new_vec=(out2+diff)\n",
    "\n",
    "\n",
    "ans=Sess.run(output,feed_dict={Y:new_vec})\n",
    "\n",
    "fig=plt.figure(figsize=(15,15))\n",
    "ax1=fig.add_subplot(1,4,1)\n",
    "ax2=fig.add_subplot(1,4,2)\n",
    "ax3=fig.add_subplot(1,4,3)\n",
    "ax4=fig.add_subplot(1,4,4)\n",
    "\n",
    "ax1.imshow(data.train.images[k:k+1].reshape(28,28))\n",
    "ax2.imshow(data.train.images[k+99:k+100].reshape(28,28))\n",
    "ax3.imshow(data.train.images[k+14:k+15].reshape(28,28))\n",
    "ax4.imshow(ans.reshape(28,28))\n",
    "\n",
    "ax1.set_title(\"Img_1\")\n",
    "ax2.set_title(\"Img_2\")\n",
    "ax3.set_title(\"Input\")\n",
    "ax4.set_title(\"Generated_image\")"
   ]
  },
  {
   "cell_type": "code",
   "execution_count": 13,
   "metadata": {},
   "outputs": [],
   "source": [
    "#Saving\n",
    "saver=tf.train.Saver()"
   ]
  },
  {
   "cell_type": "code",
   "execution_count": 14,
   "metadata": {},
   "outputs": [
    {
     "data": {
      "text/plain": [
       "'mymodel/vae'"
      ]
     },
     "execution_count": 14,
     "metadata": {},
     "output_type": "execute_result"
    }
   ],
   "source": [
    "saver.save(Sess,\"mymodel/vae\")"
   ]
  }
 ],
 "metadata": {
  "kernelspec": {
   "display_name": "Python 3",
   "language": "python",
   "name": "python3"
  },
  "language_info": {
   "codemirror_mode": {
    "name": "ipython",
    "version": 3
   },
   "file_extension": ".py",
   "mimetype": "text/x-python",
   "name": "python",
   "nbconvert_exporter": "python",
   "pygments_lexer": "ipython3",
   "version": "3.6.5"
  }
 },
 "nbformat": 4,
 "nbformat_minor": 2
}
