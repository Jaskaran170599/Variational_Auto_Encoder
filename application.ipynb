{
 "cells": [
  {
   "cell_type": "code",
   "execution_count": 1,
   "metadata": {},
   "outputs": [],
   "source": [
    "import tensorflow as tf\n",
    "import cv2\n",
    "import matplotlib.pyplot as plt\n",
    "import numpy as np"
   ]
  },
  {
   "cell_type": "code",
   "execution_count": 4,
   "metadata": {},
   "outputs": [
    {
     "name": "stdout",
     "output_type": "stream",
     "text": [
      "INFO:tensorflow:Restoring parameters from ./mymodel/vae\n"
     ]
    }
   ],
   "source": [
    "sess = tf.Session()\n",
    "sess.run(tf.global_variables_initializer())\n",
    "new_saver = tf.train.import_meta_graph('./mymodel/vae.meta')\n",
    "new_saver.restore(sess, tf.train.latest_checkpoint('./mymodel/'))\n",
    "\n",
    "graph=tf.get_default_graph()"
   ]
  },
  {
   "cell_type": "code",
   "execution_count": 8,
   "metadata": {},
   "outputs": [],
   "source": [
    "#getting Tensors\n",
    "X=graph.get_tensor_by_name(\"input:0\")                                    #for training and generating LT_VEC\n",
    "Y=graph.get_tensor_by_name(\"gen_input:0\")                                #for generating\n",
    "output_train=graph.get_tensor_by_name(\"decoder/output/Relu:0\")           #training_ouput\n",
    "gen_output=graph.get_tensor_by_name(\"decoder/output/Relu_1:0\")           #generated_output\n",
    "Lt_vec=graph.get_tensor_by_name(\"Latent_vector/Latent_vector/BiasAdd:0\") #Latent_vector\n",
    "encoding_mean=graph.get_tensor_by_name(\"encoding/dense/BiasAdd:0\")       #encoding_mean  \n",
    "encoding_stddev=graph.get_tensor_by_name(\"encoding/dense_1/BiasAdd:0\")   #encoding_stddev"
   ]
  },
  {
   "cell_type": "code",
   "execution_count": 9,
   "metadata": {},
   "outputs": [],
   "source": [
    "#Generating_out\n",
    "random=np.random.uniform(size=(1,784))\n",
    "vec=sess.run(Lt_vec,feed_dict={X:random})\n",
    "out=sess.run(gen_output,feed_dict={Y:vec})"
   ]
  },
  {
   "cell_type": "code",
   "execution_count": 10,
   "metadata": {},
   "outputs": [
    {
     "data": {
      "text/plain": [
       "<matplotlib.image.AxesImage at 0x228d29d1438>"
      ]
     },
     "execution_count": 10,
     "metadata": {},
     "output_type": "execute_result"
    },
    {
     "data": {
      "image/png": "[encoded data removed]",
      "text/plain": [
       "<Figure size 432x288 with 1 Axes>"
      ]
     },
     "metadata": {},
     "output_type": "display_data"
    }
   ],
   "source": [
    "plt.imshow(out.reshape(28,28))"
   ]
  },
  {
   "cell_type": "code",
   "execution_count": null,
   "metadata": {},
   "outputs": [],
   "source": []
  }
 ],
 "metadata": {
  "kernelspec": {
   "display_name": "Python 3",
   "language": "python",
   "name": "python3"
  },
  "language_info": {
   "codemirror_mode": {
    "name": "ipython",
    "version": 3
   },
   "file_extension": ".py",
   "mimetype": "text/x-python",
   "name": "python",
   "nbconvert_exporter": "python",
   "pygments_lexer": "ipython3",
   "version": "3.6.5"
  }
 },
 "nbformat": 4,
 "nbformat_minor": 2
}
